{
 "cells": [
  {
   "cell_type": "markdown",
   "metadata": {},
   "source": [
    "# Scrape the NFL's Advanced Stats.\n",
    "\n",
    "Referred to as 'next-gen' stats, seen here:\n",
    "\n",
    "https://nextgenstats.nfl.com/glossary\n",
    "\n"
   ]
  },
  {
   "cell_type": "code",
   "execution_count": 1,
   "metadata": {
    "collapsed": false
   },
   "outputs": [
    {
     "data": {
      "text/html": [
       "<script>code_show=true; function code_toggle() { if (code_show){ $('div.input').hide();} else { $('div.input').show(); } code_show = !code_show} $( document ).ready(code_toggle);</script><form action=\"javascript:code_toggle()\"><input type=\"submit\" value=\"Click here to toggle on/off the raw code.\"></form>"
      ],
      "text/plain": [
       "<IPython.core.display.HTML object>"
      ]
     },
     "execution_count": 1,
     "metadata": {},
     "output_type": "execute_result"
    }
   ],
   "source": [
    "from IPython.display import HTML\n",
    "HTML('''<script>code_show=true; function code_toggle() { if (code_show){ $('div.input').hide();} else { $('div.input').show(); } code_show = !code_show} $( document ).ready(code_toggle);</script><form action=\"javascript:code_toggle()\"><input type=\"submit\" value=\"Click here to toggle on/off the raw code.\"></form>''')"
   ]
  },
  {
   "cell_type": "code",
   "execution_count": 2,
   "metadata": {
    "collapsed": true
   },
   "outputs": [],
   "source": [
    "# boilerplate imports\n",
    "\n",
    "import numpy as np\n",
    "import matplotlib.pyplot as plt\n",
    "import matplotlib.cm as cm\n",
    "%matplotlib inline\n",
    "\n",
    "import matplotlib as mpl\n",
    "cmap = cm.gnuplot\n",
    "\n"
   ]
  },
  {
   "cell_type": "code",
   "execution_count": 3,
   "metadata": {
    "collapsed": true
   },
   "outputs": [],
   "source": [
    "# imports for scraping\n",
    "\n",
    "from bs4 import BeautifulSoup\n",
    "import requests\n",
    "import operator\n",
    "\n"
   ]
  },
  {
   "cell_type": "code",
   "execution_count": 34,
   "metadata": {
    "collapsed": true
   },
   "outputs": [],
   "source": [
    "teamcodes = [u'MIN', u'MIA', u'CAR', u'ATL', u'DET', \\\n",
    "             u'CIN', u'NYJ', u'DEN', u'BAL', u'NYG', \\\n",
    "             u'TEN', u'LA', u'DAL', u'NE', u'SEA',   \\\n",
    "             u'CHI', u'PIT', u'JAX', u'OAK', u'TB',  \\\n",
    "             u'HOU', u'GB', u'WAS', u'KC', u'PHI',   \\\n",
    "             u'BUF', u'NO', u'CLE', u'LAC', u'IND',  \\\n",
    "             u'ARI', u'SF']"
   ]
  },
  {
   "cell_type": "code",
   "execution_count": 31,
   "metadata": {
    "collapsed": false
   },
   "outputs": [
    {
     "name": "stdout",
     "output_type": "stream",
     "text": [
      "0 [u'Rk', u'Player', u'Team', u'Pos', u'\\nAtt', u'\\nAtt/G', u'\\nYds', u'\\nAvg', u'\\nYds/G', u'\\nTD', u'\\nLng', u'\\n1st', u'\\n1st%', u'\\n20+', u'\\n40+', u'\\nFUM']\n",
      "0 [u'Rk', u'Player', u'Team', u'Pos', u'\\nAtt', u'\\nAtt/G', u'\\nYds', u'\\nAvg', u'\\nYds/G', u'\\nTD', u'\\nLng', u'\\n1st', u'\\n1st%', u'\\n20+', u'\\n40+', u'\\nFUM']\n"
     ]
    }
   ],
   "source": [
    "r  = requests.get('http://www.nfl.com/stats/categorystats?tabSeq=1&season=2017&seasonType=REG&experience=&Submit=Go&archive=false&conference=null&d-447263-p=1&statisticPositionCategory=RUNNING_BACK&qualified=true')\n",
    "\n",
    "\n",
    "                  \n",
    "#                  http://www.nfl.com/stats/categorystats?archive=false&conference=null&statisticPositionCategory=RUNNING_BACK&season=2017&seasonType=REG&experience=&tabSeq=1&qualified=true&Submit=Go')\n",
    "\n",
    "#http://www.nfl.com/stats/categorystats?tabSeq=1&season=2017&seasonType=REG&experience=&Submit=Go&archive=false&d-447263-p=2&conference=null&statisticPositionCategory=RUNNING_BACK&qualified=true\n",
    "    \n",
    "    # standard league\n",
    "#https://www.fantasypros.com/nfl/rankings/consensus-cheatsheets.php\n",
    "\n",
    "# [u'Rank\\r\\n\\r\\n', u'Player (Team)', u'Pos', u'Bye', \\\n",
    "#         0              1              2       3\n",
    "#     u'Best', u'Worst', u'Avg', u'Std Dev', u'ADP', u'vs. ADP', u'Notes']\n",
    "#        4          5      6        7           8         9        10\n",
    "\n",
    "\n",
    "CarryDict = {}\n",
    "\n",
    "\n",
    "r  = requests.get('http://www.nfl.com/stats/categorystats?tabSeq=1&season=2017&seasonType=REG&experience=&Submit=Go&archive=false&conference=null&d-447263-p=1&statisticPositionCategory=RUNNING_BACK&qualified=true')\n",
    "\n",
    "\n",
    "data = r.text\n",
    "\n",
    "soup = BeautifulSoup(data)\n",
    "\n",
    "tables = soup.findAll('table')\n",
    "\n",
    "for indx,table in enumerate(tables): \n",
    "    \n",
    "    print indx,[th.get_text() for th in table.find(\"tr\").find_all(\"th\")]\n",
    "        \n",
    "    for row in table.find_all(\"tr\")[1:]:\n",
    "            sav = [td.get_text().replace(\"\\n\", \"\").replace(\"\\t\", \"\") for td in row.find_all(\"td\")]\n",
    "            \n",
    "            #print sav[2]\n",
    "            \n",
    "            try:\n",
    "                CarryDict[sav[2]][sav[1]] = float(sav[4])\n",
    "                \n",
    "            except:\n",
    "                CarryDict[sav[2]] = {}\n",
    "                CarryDict[sav[2]][sav[1]] = float(sav[4])\n",
    "   \n",
    "\n",
    "\n",
    "r  = requests.get('http://www.nfl.com/stats/categorystats?tabSeq=1&season=2017&seasonType=REG&experience=&Submit=Go&archive=false&conference=null&d-447263-p=2&statisticPositionCategory=RUNNING_BACK&qualified=true')\n",
    "\n",
    "\n",
    "data = r.text\n",
    "\n",
    "soup = BeautifulSoup(data)\n",
    "\n",
    "tables = soup.findAll('table')\n",
    "\n",
    "for indx,table in enumerate(tables): \n",
    "    \n",
    "    print indx,[th.get_text() for th in table.find(\"tr\").find_all(\"th\")]\n",
    "        \n",
    "    for row in table.find_all(\"tr\")[1:]:\n",
    "            sav = [td.get_text().replace(\"\\n\", \"\").replace(\"\\t\", \"\") for td in row.find_all(\"td\")]\n",
    "            \n",
    "            #print sav[2]\n",
    "            \n",
    "            try:\n",
    "                CarryDict[sav[2]][sav[1]] = float(sav[4])\n",
    "                \n",
    "            except:\n",
    "                CarryDict[sav[2]] = {}\n",
    "                CarryDict[sav[2]][sav[1]] = float(sav[4])\n",
    "   \n",
    "\n"
   ]
  },
  {
   "cell_type": "code",
   "execution_count": 36,
   "metadata": {
    "collapsed": false
   },
   "outputs": [
    {
     "name": "stdout",
     "output_type": "stream",
     "text": [
      "MIN {u'Dalvin Cook': 34.0, u'Latavius Murray': 5.0, u'Jerick McKinnon': 6.0, u'C.J. Ham': 1.0}\n",
      "MIA {u'Jay Ajayi': 28.0, u'Kenyan Drake': 1.0}\n",
      "CAR {u'Christian McCaffrey': 21.0, u'Jonathan Stewart': 33.0, u'Fozzy Whittaker': 1.0}\n",
      "ATL {u'Tevin Coleman': 14.0, u'Devonta Freeman': 31.0}\n",
      "DET {u'Ameer Abdullah': 32.0, u'Dwayne Washington': 9.0, u'Theo Riddick': 10.0}\n",
      "CIN {u'Joe Mixon': 17.0, u'Jeremy Hill': 12.0, u'Giovani Bernard': 12.0}\n",
      "NYJ {u'Elijah McGuire': 6.0, u'Matt Forte': 15.0, u'Bilal Powell': 13.0}\n",
      "DEN {u'Jamaal Charles': 19.0, u'C.J. Anderson': 45.0}\n",
      "BAL {u'Danny Woodhead': 1.0, u'Alex Collins': 7.0, u'Terrance West': 27.0, u'Javorius Allen': 35.0}\n",
      "NYG {u'Orleans Darkwa': 6.0, u'Shane Vereen': 6.0, u'Paul Perkins': 14.0}\n",
      "TEN {u'DeMarco Murray': 21.0, u'Jalston Fowler': 1.0, u'Derrick Henry': 20.0, u'David Fluellen': 3.0}\n",
      "LA {u'Malcolm Brown': 7.0, u'Todd Gurley': 35.0, u'Justin Davis': 1.0}\n",
      "DAL {u'Alfred Morris': 4.0, u'Rod Smith': 2.0, u'Ezekiel Elliott': 33.0}\n",
      "NE {u'James White': 12.0, u'Dion Lewis': 6.0, u'Mike Gillislee': 33.0, u'Rex Burkhead': 5.0}\n",
      "SEA {u'Chris Carson': 26.0, u'Eddie Lacy': 5.0, u'Thomas Rawls': 5.0, u'C.J. Prosise': 4.0}\n",
      "CHI {u'Tarik Cohen': 12.0, u'Jordan Howard': 22.0, u'Michael Burton': 1.0}\n",
      "PIT {u'James Conner': 5.0, u'Terrell Watson': 1.0, u\"Le'Veon Bell\": 37.0}\n",
      "JAX {u'Chris Ivory': 15.0, u'Tommy Bohanon': 1.0, u'Leonard Fournette': 40.0, u'Corey Grant': 1.0}\n",
      "OAK {u'Jalen Richard': 11.0, u'DeAndre Washington': 9.0, u'Marshawn Lynch': 30.0}\n",
      "TB {u'Charles Sims': 2.0, u'Jacquizz Rodgers': 19.0, u'Peyton Barber': 10.0}\n",
      "HOU {u\"D'Onta Foreman\": 13.0, u'Lamar Miller': 35.0, u'Tyler Ervin': 3.0}\n",
      "GB {u'Ty Montgomery': 29.0, u'Jamaal Williams': 4.0}\n",
      "WAS {u'Chris Thompson': 6.0, u'Samaje Perine': 21.0, u'Rob Kelley': 22.0}\n",
      "KC {u'Charcandrick West': 1.0, u'Kareem Hunt': 30.0}\n",
      "PHI {u'LeGarrette Blount': 14.0, u'Darren Sproles': 12.0, u'Wendell Smallwood': 7.0}\n",
      "BUF {u'Mike Tolbert': 15.0, u'LeSean McCoy': 34.0}\n",
      "NO {u'Mark Ingram': 14.0, u'John Kuhn': 1.0, u'Adrian Peterson': 14.0, u'Alvin Kamara': 8.0}\n",
      "CLE {u'Matt Dayes': 3.0, u'Duke Johnson': 4.0, u'Isaiah Crowell': 27.0}\n",
      "LAC {u'Derek Watt': 1.0, u'Melvin Gordon': 27.0, u'Branden Oliver': 7.0}\n",
      "IND {u'Robert Turbin': 5.0, u'Marlon Mack': 16.0, u'Frank Gore': 24.0}\n",
      "ARI {u'Kerwynn Williams': 14.0, u'Chris Johnson': 11.0, u'David Johnson': 11.0, u'Andre Ellington': 2.0}\n",
      "SF {u'Matt Breida': 8.0, u'Carlos Hyde': 24.0, u'Kyle Juszczyk': 1.0}\n"
     ]
    }
   ],
   "source": [
    "# all the running backs by carry\n",
    "\n",
    "for team in CarryDict.keys():\n",
    "    print team,CarryDict[team]"
   ]
  },
  {
   "cell_type": "markdown",
   "metadata": {
    "collapsed": true
   },
   "source": [
    "### Discussion points\n",
    "\n",
    "#### Volume Matters\n",
    "#### Order in touches matters\n",
    "#### Quality of defense matters"
   ]
  },
  {
   "cell_type": "code",
   "execution_count": 49,
   "metadata": {
    "collapsed": false
   },
   "outputs": [
    {
     "name": "stdout",
     "output_type": "stream",
     "text": [
      "0\n",
      "1\n",
      "2\n",
      "3\n",
      "4\n",
      "5\n",
      "6\n",
      "7\n"
     ]
    }
   ],
   "source": [
    "CarryDict = {}\n",
    "\n",
    "npage = 1\n",
    "\n",
    "def grab_page(npage):\n",
    "\n",
    "    r  = requests.get('http://www.nfl.com/stats/categorystats?tabSeq=0&season=2017&seasonType=REG&experience=&Submit=Go&archive=false&conference=null&statisticCategory=RECEIVING&d-447263-p='+str(npage)+'&qualified=true')\n",
    "\n",
    "    data = r.text\n",
    "\n",
    "\n",
    "    soup = BeautifulSoup(data)\n",
    "\n",
    "    tables = soup.findAll('table')\n",
    "\n",
    "    for indx,table in enumerate(tables): \n",
    "\n",
    "        #print indx,[th.get_text() for th in table.find(\"tr\").find_all(\"th\")]\n",
    "\n",
    "        for row in table.find_all(\"tr\")[1:]:\n",
    "                sav = [td.get_text().replace(\"\\n\", \"\").replace(\"\\t\", \"\") for td in row.find_all(\"td\")]\n",
    "\n",
    "                #print sav[2]\n",
    "\n",
    "                try:\n",
    "                    CarryDict[sav[2]][sav[1]] = float(sav[4])\n",
    "\n",
    "                except:\n",
    "                    CarryDict[sav[2]] = {}\n",
    "                    CarryDict[sav[2]][sav[1]] = float(sav[4])\n",
    "\n",
    "\n",
    "\n",
    "for x in range(0,8):\n",
    "    \n",
    "    print x\n",
    "    \n",
    "    grab_page(x)                   \n",
    "                    "
   ]
  },
  {
   "cell_type": "code",
   "execution_count": 54,
   "metadata": {
    "collapsed": false
   },
   "outputs": [
    {
     "name": "stdout",
     "output_type": "stream",
     "text": [
      "MIN Adam Thielen 14.0\n",
      "MIN Stefon Diggs 9.0\n",
      "MIA Jarvis Landry 13.0\n",
      "CAR Christian McCaffrey 9.0\n",
      "ATL Julio Jones 9.0\n",
      "ATL Mohamed Sanu 11.0\n",
      "DET Theo Riddick 9.0\n",
      "DET Golden Tate 14.0\n",
      "CIN A.J. Green 10.0\n",
      "NYJ Jermaine Kearse 11.0\n",
      "DEN Emmanuel Sanders 9.0\n",
      "DEN Demaryius Thomas 11.0\n",
      "NYG Sterling Shepard 9.0\n",
      "NYG Shane Vereen 12.0\n",
      "OAK Jared Cook 9.0\n",
      "OAK Michael Crabtree 12.0\n",
      "OAK Amari Cooper 9.0\n",
      "TEN Delanie Walker 11.0\n",
      "NO Michael Thomas 10.0\n",
      "NO Mark Ingram 9.0\n",
      "DAL Ezekiel Elliott 9.0\n",
      "DAL Jason Witten 17.0\n",
      "DAL Dez Bryant 9.0\n",
      "DAL Terrance Williams 10.0\n",
      "NE James White 11.0\n",
      "SEA Doug Baldwin 10.0\n",
      "BUF LeSean McCoy 11.0\n",
      "JAX Allen Hurns 9.0\n",
      "CHI Zach Miller 10.0\n",
      "CHI Kendall Wright 10.0\n",
      "CHI Tarik Cohen 16.0\n",
      "HOU DeAndre Hopkins 14.0\n",
      "GB Randall Cobb 15.0\n",
      "GB Ty Montgomery 10.0\n",
      "GB Davante Adams 11.0\n",
      "WAS Jordan Reed 11.0\n",
      "KC Travis Kelce 13.0\n",
      "KC Tyreek Hill 11.0\n",
      "PHI Zach Ertz 13.0\n",
      "PHI Alshon Jeffery 10.0\n",
      "PIT Antonio Brown 16.0\n",
      "PIT Jesse James 10.0\n",
      "LAC Keenan Allen 14.0\n",
      "LAC Melvin Gordon 12.0\n",
      "LAC Tyrell Williams 9.0\n",
      "IND Jack Doyle 10.0\n",
      "ARI Larry Fitzgerald 9.0\n",
      "ARI J.J. Nelson 10.0\n",
      "SF Pierre Garcon 9.0\n",
      "SF Carlos Hyde 9.0\n"
     ]
    }
   ],
   "source": [
    "# all the running backs by carry\n",
    "\n",
    "for team in CarryDict.keys():\n",
    "    \n",
    "    for player in CarryDict[team].keys():\n",
    "        \n",
    "        if CarryDict[team][player] > 8:\n",
    "            print team,player,CarryDict[team][player]"
   ]
  },
  {
   "cell_type": "code",
   "execution_count": null,
   "metadata": {
    "collapsed": true
   },
   "outputs": [],
   "source": []
  }
 ],
 "metadata": {
  "anaconda-cloud": {},
  "kernelspec": {
   "display_name": "Python [default]",
   "language": "python",
   "name": "python2"
  },
  "language_info": {
   "codemirror_mode": {
    "name": "ipython",
    "version": 2
   },
   "file_extension": ".py",
   "mimetype": "text/x-python",
   "name": "python",
   "nbconvert_exporter": "python",
   "pygments_lexer": "ipython2",
   "version": "2.7.12"
  }
 },
 "nbformat": 4,
 "nbformat_minor": 1
}
